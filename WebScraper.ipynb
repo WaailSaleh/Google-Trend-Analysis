{
 "cells": [
  {
   "cell_type": "markdown",
   "metadata": {},
   "source": [
    "# Scraping Lyrics using Genius.com API"
   ]
  },
  {
   "cell_type": "markdown",
   "metadata": {},
   "source": [
    "The data we want to scrape for our project is mainly the lyrics of the song. However, it might be useful to obtain other data about the songs, depending on what features we deem relevant to our question.\n",
    "\n",
    "We want to answer the question: \"Does the sentiment of a song have any correlation to its popularity, placement on the Billboard 100 or it's rating?\" \n",
    "\n",
    "Currently (2019-11-23), we believe we have to use unsupervised text sentiment analysis to obtain the output we want to analyze. This could change as time goes on. Also, we might add other factors to our question, such as Google Trends data, if we think its a necessary addition to our question. As an aside, it also be interesting to see what sentiments are more prevalent in different genres of music (i.e. does rap tend towards producing songs that are negative?). \n",
    "\n",
    "From this point onwards, the focus will be on querying the data we need, cleaning it as needed and storing it in the Google Cloud Platform (where we intend to perform our analysis).\n",
    "\n",
    "CURRENTLY: It queries Kendrick Lamar songs, reads the song title, artist and lyrics, stores it in a DataFrame and write to a .csv file. Need to extends scraper so it can query for a list of artists. Need to clean up the lyrics text to prepare it for text sentiment analysis. Decide on what features we want to include. And other stuff I can't think of right now."
   ]
  },
  {
   "cell_type": "code",
   "execution_count": 5,
   "metadata": {},
   "outputs": [],
   "source": [
    "import pandas as pd\n",
    "import numpy as np\n",
    "import matplotlib.pyplot as plt\n",
    "import seaborn as sns\n",
    "%matplotlib inline"
   ]
  },
  {
   "cell_type": "code",
   "execution_count": 145,
   "metadata": {},
   "outputs": [],
   "source": [
    "#used for web parsing\n",
    "from urllib.request import urlopen, Request\n",
    "import urllib.parse\n",
    "from bs4 import BeautifulSoup\n",
    "import requests\n",
    "import json\n",
    "import time"
   ]
  },
  {
   "cell_type": "markdown",
   "metadata": {},
   "source": [
    "To get a list of artists, we are going parse the top 100 current artists from billboard.com."
   ]
  },
  {
   "cell_type": "code",
   "execution_count": 11,
   "metadata": {},
   "outputs": [
    {
     "data": {
      "text/plain": [
       "bs4.BeautifulSoup"
      ]
     },
     "execution_count": 11,
     "metadata": {},
     "output_type": "execute_result"
    }
   ],
   "source": [
    "url = \"https://www.billboard.com/charts/artist-100\"\n",
    "hdr = {'User-Agent': 'Mozilla/5.0'}\n",
    "req = Request(url, headers=hdr)\n",
    "html = urlopen(req)\n",
    "\n",
    "soup = BeautifulSoup(html, 'lxml')"
   ]
  },
  {
   "cell_type": "code",
   "execution_count": 42,
   "metadata": {},
   "outputs": [],
   "source": [
    "top100_artists = [];\n",
    "\n",
    "for each_span in soup.find_all('span', class_='chart-list-item__title-text'):\n",
    "    top100_artists.append(each_span.get_text().strip())\n",
    "    "
   ]
  },
  {
   "cell_type": "markdown",
   "metadata": {},
   "source": [
    "Now that we have a list of artists, we will use it to query via the Genius API to get a list of songs and their lyrics. We will be focusing on getting lyrics for now and if we think we need any other features, we'll modify as needed.\n",
    "\n",
    "So far I've hardcorded the endpoint of the API to query for Kendrick Lamar. Need to extend it so I can query all the other artists.\n",
    "\n",
    "ASIDE: I am using my client access token to use the Genius API. Please ask me for the API token if you want to run the query on your own or create an api client on Genius."
   ]
  },
  {
   "cell_type": "code",
   "execution_count": 202,
   "metadata": {},
   "outputs": [],
   "source": [
    "def scrape_artist_songs(response):\n",
    "    \n",
    "    artist_json = json.dumps(response.json())\n",
    "    decoded_artist = json.loads(artist_json)\n",
    "    \n",
    "    songs=[]\n",
    "    \n",
    "    if decoded_artist['meta']['status'] == 200:\n",
    "        for each_song in decoded_artist['response']['hits']:\n",
    "            song=[];\n",
    "            if each_song['result']['lyrics_state'] == 'complete':\n",
    "                song.append(each_song['result']['title'])\n",
    "                song.append(each_song['result']['primary_artist']['name'])\n",
    "                \n",
    "                lyrics_url = \"https://genius.com\" + each_song['result']['path']\n",
    "                hdr = {'User-Agent': 'Mozilla/5.0'}\n",
    "                request = Request(lyrics_url, headers=hdr)\n",
    "                html = urlopen(request)\n",
    "\n",
    "                soup = BeautifulSoup(html, 'lxml')\n",
    "                for lyric in soup.find_all('div', class_='lyrics'):\n",
    "                    song.append(lyric.get_text().strip())\n",
    "\n",
    "                songs.append(song)\n",
    "                time.sleep(1)\n",
    "                \n",
    "    else:\n",
    "        print(\"Query was rejected with this status code: {}\".format(decoded_artist['meta']['status']))\n",
    "    \n",
    "    return songs"
   ]
  },
  {
   "cell_type": "code",
   "execution_count": 203,
   "metadata": {},
   "outputs": [],
   "source": [
    "client_access_token = 'aKV4PzKq_R1wmgWEsuFgKPpUIVAFd8CtwxQ8lq2IGfQowQqbqoDaR_njSaZHEZNe' #PUT GENIUS CLIENT ACCESS TOKEN HERE\n",
    "\n",
    "url = \"https://api.genius.com/search?q=Kendrick%20Lamar\"\n",
    "\n",
    "req = Request(url, headers=hdr)\n",
    "response = requests.get(url, \n",
    "                       headers = {'Content-Type': 'application/json',\n",
    "                                 'Authorization': 'Bearer {}'.format(client_access_token)})\n",
    "songs = scrape_artist_songs(response)"
   ]
  },
  {
   "cell_type": "code",
   "execution_count": 206,
   "metadata": {},
   "outputs": [],
   "source": [
    "headings = ['title', 'artist', 'lyrics']\n",
    "\n",
    "df = pd.DataFrame(songs, columns=headings)\n",
    "df\n",
    "\n",
    "df.to_csv('songs.csv')"
   ]
  }
 ],
 "metadata": {
  "kernelspec": {
   "display_name": "Python 3",
   "language": "python",
   "name": "python3"
  },
  "language_info": {
   "codemirror_mode": {
    "name": "ipython",
    "version": 3
   },
   "file_extension": ".py",
   "mimetype": "text/x-python",
   "name": "python",
   "nbconvert_exporter": "python",
   "pygments_lexer": "ipython3",
   "version": "3.7.3"
  }
 },
 "nbformat": 4,
 "nbformat_minor": 4
}
